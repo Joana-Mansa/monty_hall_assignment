{
 "cells": [
  {
   "cell_type": "markdown",
   "id": "820c1dcc",
   "metadata": {},
   "source": [
    "# MONTY HALL PROBLEM"
   ]
  },
  {
   "cell_type": "markdown",
   "id": "359fc6cc",
   "metadata": {},
   "source": [
    "### Requirements\n",
    "\n",
    "- You are on a TV show and there are three doors in front of you: Two of them with a goat behind and one with a car;\n",
    "\n",
    "- The host knows where the car is;\n",
    "\n",
    "- I want you to simulate that you are a contestant on this show 1000 times. Each time, you pick a random door as your first choice, let the host open a door that reveals a goat, and then switch your choice to the door that the host didn't open. With that strategy (known as the \"always switch\" strategy), how often do you win the car? Show me the percentage!\n",
    "\n",
    "\n",
    "Here are a couple of details that I want to be clear:\n",
    "- Before starting each game, the host randomly selects which door contains the car.\n",
    "\n",
    "- After you make your initial choice, the host always opens one door that contains a goat, and it will always be a door that you did not initially choose. (If the host has two options for which door to open to reveal a goat, he will randomly select which of those two doors to open.)\n",
    "\n",
    "- After the host opens a door that contains a goat, you will always be given the option to switch your choice to the door that is still closed, and you will always accept that option."
   ]
  },
  {
   "cell_type": "markdown",
   "id": "1ac5637a",
   "metadata": {},
   "source": [
    "### Algorithm ( solution outlined)\n",
    "1. there are three doors; 2 have goats, 1 has a car (a list with 3 index, a car could randomly be behind one)\n",
    "2. Contestant picks a random door (first choice)\n",
    "3. The host opens another door that has a goat\n",
    "4. Switch choice to the door that hasn't been opened (switch strategy)\n",
    "5. Show number of times you win the car\n",
    "6. Show a percentage"
   ]
  },
  {
   "cell_type": "markdown",
   "id": "353a9d6b",
   "metadata": {},
   "source": [
    "#### Execution\n",
    "1. Create a function 'monty_game'\n",
    "2. The function accepts two parameters, first the chances (i.e the number of times the player gets to play), then the switch strategy, which is True\n",
    "3. the three doors are represented by a list with three 0's, representing 'goats'\n",
    "4. randomly replace one of the doors with the a car\n",
    "5. set the car to the door index 1\n",
    "6. contestant makes a random choice\n",
    "7. monty chooses a door which has a goat\n",
    "8. the contestant, based on the switch strategy will opt for the door which has not been opened\n",
    "9. count the number of cars the player potentially makes with each iteration\n",
    "10. calculate the percentage\n",
    "\n",
    "Keywords:\n",
    "\n",
    ".choice() module - returns a randomly selected element from a specified sequence\n",
    "\n",
    "\n",
    ".next() - the next function returns the next item in an iteration\n",
    "\n",
    "the f-string provides a concise way to concatenate strings, and at the same time embed integer values by enclosing them in curly brackets."
   ]
  },
  {
   "cell_type": "markdown",
   "id": "61d21a25",
   "metadata": {},
   "source": [
    "### Importing Libraries"
   ]
  },
  {
   "cell_type": "code",
   "execution_count": 60,
   "id": "f871641f",
   "metadata": {},
   "outputs": [],
   "source": [
    "# in-built module that generates\n",
    "# random numbers\n",
    "import random"
   ]
  },
  {
   "cell_type": "code",
   "execution_count": 61,
   "id": "146a700d",
   "metadata": {},
   "outputs": [
    {
     "name": "stdout",
     "output_type": "stream",
     "text": [
      " I won 670 times \n",
      " Win percentage with switching: 67.00%\n"
     ]
    }
   ],
   "source": [
    "\n",
    "def monty_game(chances, switch_strategy=True):\n",
    "    \n",
    "    global goatcount\n",
    "    global carcount\n",
    "    \n",
    "    carcount = 0\n",
    "    goatcount = 0\n",
    "\n",
    "    for i in range(chances):\n",
    "        doors = [0, 0, 0]\n",
    "        # randomly replaces one of the goats with a car\n",
    "        car_door = random.randint(0,2)\n",
    "        doors[car_door] = 1\n",
    "        \n",
    "        # contestant makes a choice\n",
    "        first_choice = random.randint(0,2)\n",
    "        \n",
    "        # monty reveals a goat from a door that hasn't\n",
    "        # been opened by the contestant\n",
    "        monty_choice = [x for x in range(3) if x != first_choice and doors[x]==0]\n",
    "        \n",
    "        # .choice() method from the random module\n",
    "        second_choice = random.choice(monty_choice)\n",
    "        \n",
    "        # switch strategy\n",
    "        if switch_strategy:\n",
    "            third_choice = next(x for x in range(3) if x != first_choice and x != second_choice)\n",
    "        \n",
    "            if doors[third_choice] == 1:\n",
    "                carcount += 1\n",
    "            else:\n",
    "                goatcount +=1\n",
    "        \n",
    "    wining_percentage = (carcount/chances)*100\n",
    "    return wining_percentage\n",
    "\n",
    "# sets the number of iterations to 1000\n",
    "chances = 1000\n",
    "\n",
    "# calls the function monty_game\n",
    "switch_win_percentage = monty_game(chances, switch_strategy=True)\n",
    "\n",
    "# f string\n",
    "print(f\" I won {carcount} times \")\n",
    "print(f\" Win percentage with switching: {switch_win_percentage:.2f}%\")\n",
    "\n",
    "\n",
    "\n"
   ]
  },
  {
   "cell_type": "markdown",
   "id": "1a77b04a",
   "metadata": {},
   "source": [
    "## Resources\n",
    "1. OpenAI(2023)\n",
    "2. Python Documentation [https://docs.python.org/3/]\n",
    "3. Solving Monty Hall Problem in Python (https://youtu.be/-DqKSUSHwjc?si=DWa931DZ4RLZWJuA)"
   ]
  },
  {
   "cell_type": "code",
   "execution_count": null,
   "id": "267df9e1",
   "metadata": {},
   "outputs": [],
   "source": []
  }
 ],
 "metadata": {
  "kernelspec": {
   "display_name": "Python 3 (ipykernel)",
   "language": "python",
   "name": "python3"
  },
  "language_info": {
   "codemirror_mode": {
    "name": "ipython",
    "version": 3
   },
   "file_extension": ".py",
   "mimetype": "text/x-python",
   "name": "python",
   "nbconvert_exporter": "python",
   "pygments_lexer": "ipython3",
   "version": "3.9.13"
  }
 },
 "nbformat": 4,
 "nbformat_minor": 5
}
